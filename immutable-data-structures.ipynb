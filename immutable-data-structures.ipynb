{
 "cells": [
  {
   "cell_type": "markdown",
   "metadata": {
    "slideshow": {
     "slide_type": "slide"
    }
   },
   "source": [
    "# Immutable Data Structures in Python (and reactive programming ... maybe decorators too)\n",
    "\n",
    "Alex Kavanagh (@ajkavananagh)"
   ]
  },
  {
   "cell_type": "markdown",
   "metadata": {
    "slideshow": {
     "slide_type": "slide"
    }
   },
   "source": [
    "# What we'll try to cover\n",
    "\n",
    "* Immutable Data Structures\n",
    "* Decorators (because somebody asked ...)\n",
    "* Reactive Programming\n",
    "* Err, and why!"
   ]
  },
  {
   "cell_type": "markdown",
   "metadata": {
    "slideshow": {
     "slide_type": "slide"
    }
   },
   "source": [
    "# Why Immutable Data Structures\n",
    "\n",
    "* Contracts\n",
    "* Reasoning\n",
    "* Threading / parallelism\n",
    "\n",
    "\n"
   ]
  },
  {
   "cell_type": "markdown",
   "metadata": {
    "slideshow": {
     "slide_type": "slide"
    }
   },
   "source": [
    "# Some basic immutable types\n"
   ]
  },
  {
   "cell_type": "markdown",
   "metadata": {
    "slideshow": {
     "slide_type": "subslide"
    }
   },
   "source": [
    "## tuple"
   ]
  },
  {
   "cell_type": "code",
   "execution_count": 66,
   "metadata": {},
   "outputs": [
    {
     "name": "stdout",
     "output_type": "stream",
     "text": [
      "(1, 2, 3)\n"
     ]
    }
   ],
   "source": [
    "x = (1, 2, 3)\n",
    "\n",
    "print(x)\n",
    "\n",
    "#x[1] = 4\n"
   ]
  },
  {
   "cell_type": "markdown",
   "metadata": {},
   "source": [
    "(oops!)"
   ]
  },
  {
   "cell_type": "markdown",
   "metadata": {
    "slideshow": {
     "slide_type": "subslide"
    }
   },
   "source": [
    "## Strings (... really)"
   ]
  },
  {
   "cell_type": "code",
   "execution_count": 67,
   "metadata": {},
   "outputs": [],
   "source": [
    "s = \"abc\"\n",
    "#s[1] = 'd'"
   ]
  },
  {
   "cell_type": "markdown",
   "metadata": {
    "slideshow": {
     "slide_type": "slide"
    }
   },
   "source": [
    "# Introducing collections.*\n",
    "\n",
    "This is where all the goodness for making immutable structures live."
   ]
  },
  {
   "cell_type": "markdown",
   "metadata": {
    "slideshow": {
     "slide_type": "subslide"
    }
   },
   "source": [
    "## collections.namedtuple"
   ]
  },
  {
   "cell_type": "code",
   "execution_count": 8,
   "metadata": {},
   "outputs": [
    {
     "name": "stdout",
     "output_type": "stream",
     "text": [
      "1\n"
     ]
    }
   ],
   "source": [
    "from collections import namedtuple\n",
    "\n",
    "Complex = namedtuple('Complex', 'a b')\n",
    "\n",
    "c = Complex(1,1)\n",
    "\n",
    "print(c.a)"
   ]
  },
  {
   "cell_type": "markdown",
   "metadata": {},
   "source": [
    "* It's like an immutable, lightweight, class, but you can't change it when it's done."
   ]
  },
  {
   "cell_type": "code",
   "execution_count": 38,
   "metadata": {},
   "outputs": [],
   "source": [
    "# c.a = 2"
   ]
  },
  {
   "cell_type": "markdown",
   "metadata": {
    "slideshow": {
     "slide_type": "subslide"
    }
   },
   "source": [
    "## collections.defaultdict\n",
    "\n",
    "You should definitely explore `collections` as it contains some useful, er, collections.  for example, the `defaultdict`:"
   ]
  },
  {
   "cell_type": "code",
   "execution_count": 14,
   "metadata": {},
   "outputs": [
    {
     "data": {
      "text/plain": [
       "{'blue': [2, 4], 'red': [1], 'yellow': [1, 3]}"
      ]
     },
     "execution_count": 14,
     "metadata": {},
     "output_type": "execute_result"
    }
   ],
   "source": [
    "# have you ever wanted to do this (from the docs)\n",
    "\n",
    "from collections import defaultdict\n",
    "\n",
    "s = [('yellow', 1), ('blue', 2), ('yellow', 3), ('blue', 4), ('red', 1)]\n",
    "d = defaultdict(list)\n",
    "for k, v in s:\n",
    "    d[k].append(v)\n",
    "dict(d.items())"
   ]
  },
  {
   "cell_type": "markdown",
   "metadata": {
    "slideshow": {
     "slide_type": "slide"
    }
   },
   "source": [
    "# Let's make an immutable dictionary\n",
    "\n",
    "We start at (Python3) `collections.abc.Mapping` (Python2, `collections.mapping`): [link](https://docs.python.org/3/library/collections.abc.html)\n",
    "\n",
    "(Note: there is a `MutableMapping` too; but were not interested in that!)\n",
    "\n",
    "We'll create an `AttrDict`: a dictionary than you can access by attribute.\n",
    "\n"
   ]
  },
  {
   "cell_type": "markdown",
   "metadata": {
    "slideshow": {
     "slide_type": "subslide"
    }
   },
   "source": [
    "## class AttrDict(...)"
   ]
  },
  {
   "cell_type": "code",
   "execution_count": 32,
   "metadata": {},
   "outputs": [],
   "source": [
    "import collections.abc\n",
    "\n",
    "\n",
    "class AttrDict(collections.abc.Mapping):\n",
    "    \n",
    "    def __init__(self, data):\n",
    "        self._data = data.copy()\n",
    "        \n",
    "    def __getitem__(self, key):\n",
    "        return self._data[key]\n",
    "    \n",
    "    __getattr__ = __getitem__\n",
    "    \n",
    "    def __setattr__(self, key, value):\n",
    "        if key != '_data':\n",
    "            raise TypeError(\"Can't set item in {}\".format(self.__class__.__name__))\n",
    "        super().__setattr__(key, value)\n",
    "        \n",
    "    def __len__(self):\n",
    "        return len(self._data)\n",
    "    \n",
    "    def __iter__(self):\n",
    "        return iter(self._data)\n",
    "    \n",
    "    def __repr__(self):\n",
    "        return (\"{}({{{}}})\"\n",
    "                .format(self.__class__.__name__,\n",
    "                        \", \".join([\"{}: {}\".format(repr(k), repr(v))\n",
    "                                   for k, v in self._data.items()])))\n",
    "\n",
    "    def __str__(self):\n",
    "        return \"{{{}}}\".format(\", \".join([\"{}: {}\".format(k, v)\n",
    "                                          for k, v in self._data.items()]))"
   ]
  },
  {
   "cell_type": "code",
   "execution_count": 37,
   "metadata": {
    "slideshow": {
     "slide_type": "subslide"
    }
   },
   "outputs": [
    {
     "data": {
      "text/plain": [
       "3"
      ]
     },
     "execution_count": 37,
     "metadata": {},
     "output_type": "execute_result"
    }
   ],
   "source": [
    "a = AttrDict({'a': 1, 'b': 2, 'c': 3})\n",
    "a.a\n",
    "a.b\n",
    "a.c\n",
    "# a.b = 4"
   ]
  },
  {
   "cell_type": "code",
   "execution_count": 42,
   "metadata": {},
   "outputs": [
    {
     "name": "stdout",
     "output_type": "stream",
     "text": [
      "{b: 2, c: 3, a: 1}\n"
     ]
    },
    {
     "data": {
      "text/plain": [
       "AttrDict({'b': 2, 'c': 3, 'a': 1})"
      ]
     },
     "execution_count": 42,
     "metadata": {},
     "output_type": "execute_result"
    }
   ],
   "source": [
    "print(a)\n",
    "a"
   ]
  },
  {
   "cell_type": "markdown",
   "metadata": {
    "slideshow": {
     "slide_type": "slide"
    }
   },
   "source": [
    "# Decorators\n",
    "\n",
    "Read my blog post: [Exploring Python Decorators](http://alex.kavanagh.name/2011/05/exploring-python-decorators/).\n",
    "\n",
    "* http://alex.kavanagh.name/2011/05/exploring-python-decorators/\n",
    "\n",
    "Simply: they are syntactic sugar for passing a function to another function when it is being defined:"
   ]
  },
  {
   "cell_type": "code",
   "execution_count": 58,
   "metadata": {},
   "outputs": [
    {
     "name": "stdout",
     "output_type": "stream",
     "text": [
      "In decorator\n",
      "Before hello call\n",
      "In dec\n",
      "Python NE\n"
     ]
    }
   ],
   "source": [
    "from functools import wraps\n",
    "\n",
    "def decorator(f):\n",
    "    print(\"In decorator\")\n",
    "    @wraps(f)\n",
    "    def dec(*args, **kwargs):\n",
    "        # do something useful\n",
    "        print(\"In dec\")\n",
    "        return f(*args, **kwargs)\n",
    "    return dec\n",
    "\n",
    "@decorator\n",
    "def hello(string):\n",
    "    print(string)\n",
    "\n",
    "print(\"Before hello call\")\n",
    "hello(\"Python NE\")"
   ]
  },
  {
   "cell_type": "code",
   "execution_count": 59,
   "metadata": {
    "slideshow": {
     "slide_type": "subslide"
    }
   },
   "outputs": [
    {
     "name": "stdout",
     "output_type": "stream",
     "text": [
      "In decorator\n",
      "In dec\n",
      "hello2 there\n"
     ]
    }
   ],
   "source": [
    "# This is roughy equivalent to:\n",
    "\n",
    "def hello2(string):\n",
    "    print(\"hello2\", string)\n",
    "    \n",
    "hello2 = decorator(hello2)\n",
    "hello2(\"there\")"
   ]
  },
  {
   "cell_type": "markdown",
   "metadata": {
    "slideshow": {
     "slide_type": "subslide"
    }
   },
   "source": [
    "## Decorator that takes arguments"
   ]
  },
  {
   "cell_type": "code",
   "execution_count": 60,
   "metadata": {},
   "outputs": [
    {
     "name": "stdout",
     "output_type": "stream",
     "text": [
      "Before inner\n",
      "In inner\n",
      "Before hello3\n",
      "In wrapped\n",
      "hello again\n"
     ]
    }
   ],
   "source": [
    "def pdecorator(name):\n",
    "    print(\"Before inner\")\n",
    "    def inner(f):\n",
    "        print(\"In inner\")\n",
    "        def wrapped(*args, **kwargs):\n",
    "            print(\"In wrapped\")\n",
    "            return f(name, *args, **kwargs)\n",
    "        return wraps(f)(wrapped)\n",
    "    return inner\n",
    "\n",
    "@pdecorator('hello')\n",
    "def hello3(string, string2='optional'):\n",
    "    print(string, string2)\n",
    "    \n",
    "print(\"Before hello3\")\n",
    "    \n",
    "hello3(\"again\")"
   ]
  },
  {
   "cell_type": "code",
   "execution_count": 61,
   "metadata": {
    "slideshow": {
     "slide_type": "subslide"
    }
   },
   "outputs": [
    {
     "name": "stdout",
     "output_type": "stream",
     "text": [
      "Before inner\n",
      "In inner\n",
      "In wrapped\n",
      "Goodbye all\n"
     ]
    }
   ],
   "source": [
    "# which is again, roughly equivalent to:\n",
    "\n",
    "def hello4(greeting, name):\n",
    "    print(greeting, name)\n",
    "    \n",
    "hello4 = pdecorator(\"Goodbye\")(hello4)\n",
    "hello4(\"all\")"
   ]
  },
  {
   "cell_type": "markdown",
   "metadata": {
    "slideshow": {
     "slide_type": "subslide"
    }
   },
   "source": [
    "## Also a class way of doing a @decorator"
   ]
  },
  {
   "cell_type": "code",
   "execution_count": 65,
   "metadata": {},
   "outputs": [
    {
     "name": "stdout",
     "output_type": "stream",
     "text": [
      "Called f1 with args: (1, 2)\n"
     ]
    },
    {
     "data": {
      "text/plain": [
       "(1, 2)"
      ]
     },
     "execution_count": 65,
     "metadata": {},
     "output_type": "execute_result"
    }
   ],
   "source": [
    "class decorator():\n",
    "    def __init__(self, func):\n",
    "        self.func = func\n",
    "\n",
    "    def __call__(self, *args):\n",
    "        print('Called {func} with args: {args}'.format(func=self.func.__name__,\n",
    "                                                       args=args))\n",
    "        return self.func(*args)\n",
    "\n",
    "@decorator\n",
    "def f1(x,y):\n",
    "    return x,y\n",
    "\n",
    "f1(1,2)"
   ]
  },
  {
   "cell_type": "markdown",
   "metadata": {
    "slideshow": {
     "slide_type": "-"
    }
   },
   "source": [
    "And also a way of of doing many other things."
   ]
  },
  {
   "cell_type": "markdown",
   "metadata": {
    "slideshow": {
     "slide_type": "slide"
    }
   },
   "source": [
    "# Reactive Programming\n",
    "\n",
    "* Not to be confused with Reactor programming (which is something different)\n",
    "* Think of a spreadsheet.\n",
    "\n",
    "Reactive Systems are \"Responsive, Resilient, Elastic and Message Driven\" (Reactive Manifesto)"
   ]
  },
  {
   "cell_type": "markdown",
   "metadata": {
    "slideshow": {
     "slide_type": "slide"
    }
   },
   "source": [
    "# What is Reactive Programming?\n",
    "\n",
    "* Deals with flow of data\n",
    "* Not necessarily 'functional programming' (although, **I** think it helps).\n",
    "* Not 'event driven'"
   ]
  },
  {
   "cell_type": "markdown",
   "metadata": {
    "slideshow": {
     "slide_type": "slide"
    }
   },
   "source": [
    "# Functional Reactive Programming\n",
    "\n",
    "* No mutable state (... immutable data structures, anyone!)\n",
    "* Easy to reaon about\n",
    "* Easy to make smaller components"
   ]
  },
  {
   "cell_type": "markdown",
   "metadata": {
    "slideshow": {
     "slide_type": "slide"
    }
   },
   "source": [
    "# Examples\n",
    "\n",
    "* JS React\n",
    "* ANY spreadsheet\n",
    "* LINQ\n",
    "* ReactiveX / RxPy"
   ]
  },
  {
   "cell_type": "markdown",
   "metadata": {
    "slideshow": {
     "slide_type": "slide"
    }
   },
   "source": [
    "# Let's look at Rx\n",
    "\n",
    "* This is from [their](RxPY/notebooks/Getting Started.ipynb) notebook.\n",
    "\n",
    "(Switch notebooks now)"
   ]
  },
  {
   "cell_type": "markdown",
   "metadata": {},
   "source": [
    "# What am I doing with it?\n",
    "\n",
    "* It's still a work in progress\n",
    "* Called `charms.declarative`\n",
    "* Uses immutable data structures\n",
    "* Uses a custom built reactive reactor to build chains of functions that produce result.\n",
    "* Intend to use it for writing charms.\n",
    "* Show some code!"
   ]
  },
  {
   "cell_type": "markdown",
   "metadata": {
    "slideshow": {
     "slide_type": "slide"
    }
   },
   "source": [
    "References:\n",
    "\n",
    "* https://www.slideshare.net/PeterLawrey/reactive-programming-with-examples\n",
    "* https://en.wikipedia.org/wiki/Reactive_programming\n",
    "* ReactiveX - API for async programming with observable streams: http://reactivex.io/\n",
    "* ReactiveX / RxPy (Reactive Extensions for Python): https://github.com/ReactiveX/RxPY"
   ]
  }
 ],
 "metadata": {
  "celltoolbar": "Slideshow",
  "kernelspec": {
   "display_name": "Python 3",
   "language": "python",
   "name": "python3"
  },
  "language_info": {
   "codemirror_mode": {
    "name": "ipython",
    "version": 3
   },
   "file_extension": ".py",
   "mimetype": "text/x-python",
   "name": "python",
   "nbconvert_exporter": "python",
   "pygments_lexer": "ipython3",
   "version": "3.5.2"
  },
  "livereveal": {
   "start_slideshow_at": "selected"
  }
 },
 "nbformat": 4,
 "nbformat_minor": 2
}
